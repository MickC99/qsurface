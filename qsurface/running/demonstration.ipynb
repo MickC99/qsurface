{
 "cells": [
  {
   "cell_type": "code",
   "execution_count": 1,
   "metadata": {},
   "outputs": [],
   "source": [
    "from qsurface.main import initialize, run, BenchmarkDecoder\n",
    "from qsurface.decoders import mwpm"
   ]
  },
  {
   "cell_type": "markdown",
   "metadata": {},
   "source": [
    "# Plotting with superoperator"
   ]
  },
  {
   "cell_type": "markdown",
   "metadata": {},
   "source": [
    "## Planar and Toric codes with MWPM and Unionfind"
   ]
  },
  {
   "cell_type": "code",
   "execution_count": null,
   "metadata": {},
   "outputs": [],
   "source": [
    "code, decoder = initialize((4,4), \"planar\", \"mwpm\", plotting=True, superoperator_enable=True, sup_op_file=\"C:/qarch/qsurface/data/eg_sup.csv\", initial_states=(0,0))\n",
    "run(code, decoder, iterations=10, decode_initial=False, seed=69)"
   ]
  },
  {
   "cell_type": "code",
   "execution_count": null,
   "metadata": {},
   "outputs": [],
   "source": [
    "code, decoder = initialize((4,4), \"planar\", \"unionfind\", plotting=True, superoperator_enable=True, sup_op_file=\"C:/qarch/qsurface/data/eg_sup.csv\", initial_states=(0,0))\n",
    "run(code, decoder, iterations=10, decode_initial=False, seed=69)"
   ]
  },
  {
   "cell_type": "code",
   "execution_count": null,
   "metadata": {},
   "outputs": [],
   "source": [
    "code, decoder = initialize((4,4), \"toric\", \"mwpm\", plotting=True, superoperator_enable=True, sup_op_file=\"C:/qarch/qsurface/data/eg_sup.csv\", initial_states=(0,0))\n",
    "run(code, decoder, iterations=10, decode_initial=False, seed=69)"
   ]
  },
  {
   "cell_type": "code",
   "execution_count": null,
   "metadata": {},
   "outputs": [],
   "source": [
    "code, decoder = initialize((4,4), \"toric\", \"unionfind\", plotting=True, superoperator_enable=True, sup_op_file=\"C:/qarch/qsurface/data/eg_sup.csv\", initial_states=(0,0))\n",
    "run(code, decoder, iterations=10, decode_initial=False, seed=69)"
   ]
  },
  {
   "cell_type": "markdown",
   "metadata": {},
   "source": [
    "# Benchmarking with superoperator"
   ]
  },
  {
   "cell_type": "markdown",
   "metadata": {},
   "source": [
    "## Planar and Toric codes with MWPM and Unionfind"
   ]
  },
  {
   "cell_type": "code",
   "execution_count": 2,
   "metadata": {},
   "outputs": [
    {
     "name": "stdout",
     "output_type": "stream",
     "text": [
      "######################\n",
      "{0: None, 1: {(2.5, 3): 'X'}, 2: None, 3: None}\n",
      "\n",
      "######################\n",
      "{0: None, 1: None, 2: None, 3: {(3.5, 2): 'Z'}}\n",
      "\n",
      "######################\n",
      "{0: None, 1: None, 2: None, 3: None}\n",
      "\n",
      "######################\n",
      "{0: None, 1: None, 2: None, 3: None}\n",
      "\n",
      "######################\n",
      "{0: None, 1: None, 2: None, 3: None}\n",
      "\n",
      "######################\n",
      "{0: None, 1: None, 2: None, 3: None}\n",
      "\n",
      "######################\n",
      "{0: None, 1: None, 2: None, 3: None}\n",
      "\n",
      "######################\n",
      "{0: None, 1: None, 2: None, 3: None}\n",
      "\n",
      "######################\n",
      "{0: None, 1: {(1.5, 0): 'X'}, 2: None, 3: None}\n",
      "\n",
      "######################0\n",
      "{0: None, 1: None, 2: None, 3: None}\n",
      "\n",
      "\n"
     ]
    },
    {
     "data": {
      "text/plain": [
       "{'no_error': 8,\n",
       " 'benchmark': {'decoded': 10,\n",
       "  'iterations': 10,\n",
       "  'seed': 690.0,\n",
       "  'duration/decode/mean': 0.0003295100017567165,\n",
       "  'duration/decode/std': 0.00015932516086945362,\n",
       "  'count_calls/correct_edge/mean': 3.0,\n",
       "  'count_calls/correct_edge/std': 0.0}}"
      ]
     },
     "execution_count": 2,
     "metadata": {},
     "output_type": "execute_result"
    }
   ],
   "source": [
    "benchmarker = BenchmarkDecoder({\n",
    "        \"decode\": [\"duration\", \"value_to_list\"],\n",
    "        \"correct_edge\": \"count_calls\",})\n",
    "\n",
    "code, decoder = initialize((4,4), \"planar\", \"mwpm\", plotting=False, superoperator_enable=True, sup_op_file=\"C:/qarch/qsurface/data/eg_sup.csv\", initial_states=(0,0))\n",
    "run(code, decoder, iterations=10, benchmark=benchmarker, decode_initial=False, seed=69)"
   ]
  },
  {
   "cell_type": "code",
   "execution_count": 40,
   "metadata": {},
   "outputs": [
    {
     "name": "stdout",
     "output_type": "stream",
     "text": [
      "Running iteration 10/10\n"
     ]
    },
    {
     "data": {
      "text/plain": [
       "{'no_error': 10,\n",
       " 'benchmark': {'decoded': 10,\n",
       "  'iterations': 10,\n",
       "  'seed': 1000.0,\n",
       "  'duration/decode/mean': 0.0020299499999509862,\n",
       "  'duration/decode/std': 0.0005498990457553929,\n",
       "  'count_calls/correct_edge/mean': 5.7,\n",
       "  'count_calls/correct_edge/std': 2.147091055358389}}"
      ]
     },
     "execution_count": 40,
     "metadata": {},
     "output_type": "execute_result"
    }
   ],
   "source": [
    "benchmarker = BenchmarkDecoder({\n",
    "        \"decode\": [\"duration\", \"value_to_list\"],\n",
    "        \"correct_edge\": \"count_calls\",})\n",
    "\n",
    "code, decoder = initialize((10,10), \"toric\", \"mwpm\", plotting=False, superoperator_enable=True, sup_op_file=\"C:/qarch/qsurface/data/eg_sup.csv\", initial_states=(0,0))\n",
    "run(code, decoder, iterations=10, benchmark=benchmarker, decode_initial=False, seed=100)"
   ]
  }
 ],
 "metadata": {
  "interpreter": {
   "hash": "9bfd7e0ac6c4fb4883d1816db194b100cfb22b200c60c9d7cb3608e57349e9c0"
  },
  "kernelspec": {
   "display_name": "Python 3.10.0 ('qsurface--vZ0vH2w')",
   "language": "python",
   "name": "python3"
  },
  "language_info": {
   "codemirror_mode": {
    "name": "ipython",
    "version": 3
   },
   "file_extension": ".py",
   "mimetype": "text/x-python",
   "name": "python",
   "nbconvert_exporter": "python",
   "pygments_lexer": "ipython3",
   "version": "3.9.7"
  },
  "orig_nbformat": 4
 },
 "nbformat": 4,
 "nbformat_minor": 2
}
