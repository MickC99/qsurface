{
 "cells": [
  {
   "cell_type": "code",
   "execution_count": 24,
   "metadata": {},
   "outputs": [
    {
     "name": "stdout",
     "output_type": "stream",
     "text": [
      "The line_profiler extension is already loaded. To reload it, use:\n",
      "  %reload_ext line_profiler\n"
     ]
    }
   ],
   "source": [
    "from qsurface.main import initialize, run, BenchmarkDecoder\n",
    "from qsurface.decoders import mwpm\n",
    "import pandas as pd\n",
    "\n",
    "%load_ext line_profiler"
   ]
  },
  {
   "cell_type": "markdown",
   "metadata": {},
   "source": [
    "# Toric comparison Phenomeological: Inbuilt vs Superoperator"
   ]
  },
  {
   "cell_type": "markdown",
   "metadata": {},
   "source": [
    "### Superoperator"
   ]
  },
  {
   "cell_type": "code",
   "execution_count": 37,
   "metadata": {},
   "outputs": [
    {
     "name": "stdout",
     "output_type": "stream",
     "text": [
      "Running iteration 10000/10000\n"
     ]
    },
    {
     "data": {
      "text/plain": [
       "{'no_error': 2483}"
      ]
     },
     "execution_count": 37,
     "metadata": {},
     "output_type": "execute_result"
    }
   ],
   "source": [
    "code, decoder = initialize((5,5), \"toric\", \"mwpm\", plotting=False, superoperator_enable=True, sup_op_file=\"C:/qarch/qsurface/data/phenomenological/phenomenological_0.0_0.05_0.0_0.0_toric.csv\", initial_states=(0,0))\n",
    "run(code, decoder, iterations=10000, decode_initial=False)\n",
    "\n",
    "# %lprun -f code.init_superoperator_errors run(code, decoder, iterations=4, decode_initial=False)"
   ]
  },
  {
   "cell_type": "markdown",
   "metadata": {},
   "source": [
    "### Phenomenological"
   ]
  },
  {
   "cell_type": "code",
   "execution_count": 36,
   "metadata": {},
   "outputs": [
    {
     "name": "stdout",
     "output_type": "stream",
     "text": [
      "Running iteration 10000/10000\n"
     ]
    },
    {
     "data": {
      "text/plain": [
       "{'no_error': 2554}"
      ]
     },
     "execution_count": 36,
     "metadata": {},
     "output_type": "execute_result"
    }
   ],
   "source": [
    "p_bitflip = 0.0\n",
    "p_phaseflip = 0.17195\n",
    "p_bitflip_plaq = 0.0\n",
    "p_bitflip_star = 0.0\n",
    "\n",
    "\n",
    "code, decoder = initialize((5,5), \"toric\", \"mwpm\", enabled_errors=[\"pauli\"], plotting=False, initial_states=(0,0), faulty_measurements=True)\n",
    "run(code, decoder, iterations=10000, error_rates={\"p_bitflip\": p_bitflip, \"p_phaseflip\": p_phaseflip, \"p_bitflip_plaq\": p_bitflip_plaq, \"p_bitflip_star\": p_bitflip_star}, decode_initial=False)\n",
    "\n",
    "# %lprun -f run run(code, decoder, iterations=10, decode_initial=False)"
   ]
  }
 ],
 "metadata": {
  "interpreter": {
   "hash": "9bfd7e0ac6c4fb4883d1816db194b100cfb22b200c60c9d7cb3608e57349e9c0"
  },
  "kernelspec": {
   "display_name": "Python 3.10.0 ('qsurface--vZ0vH2w')",
   "language": "python",
   "name": "python3"
  },
  "language_info": {
   "codemirror_mode": {
    "name": "ipython",
    "version": 3
   },
   "file_extension": ".py",
   "mimetype": "text/x-python",
   "name": "python",
   "nbconvert_exporter": "python",
   "pygments_lexer": "ipython3",
   "version": "3.9.7"
  },
  "orig_nbformat": 4
 },
 "nbformat": 4,
 "nbformat_minor": 2
}
