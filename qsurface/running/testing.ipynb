{
 "cells": [
  {
   "cell_type": "code",
   "execution_count": 1,
   "metadata": {},
   "outputs": [],
   "source": [
    "from qsurface.main import create_phenomenological_superoperator, initialize, run, BenchmarkDecoder\n",
    "from qsurface.decoders import mwpm\n",
    "import pandas as pd\n",
    "\n",
    "%load_ext line_profiler"
   ]
  },
  {
   "cell_type": "markdown",
   "metadata": {},
   "source": [
    "# Toric comparison Phenomeological: Inbuilt vs Superoperator"
   ]
  },
  {
   "cell_type": "markdown",
   "metadata": {},
   "source": [
    "### Superoperator"
   ]
  },
  {
   "cell_type": "code",
   "execution_count": 5,
   "metadata": {},
   "outputs": [
    {
     "name": "stdout",
     "output_type": "stream",
     "text": [
      "Running iteration 10000/10000\n"
     ]
    },
    {
     "data": {
      "text/plain": [
       "{'no_error': 6772}"
      ]
     },
     "execution_count": 5,
     "metadata": {},
     "output_type": "execute_result"
    }
   ],
   "source": [
    "code, decoder = initialize((4,4), \"toric\", \"unionfind\", plotting=False, superoperator_enable=True, sup_op_file=\"C:/qarch/qsurface/data/phenomenological/phenomenological_0.0103148_0.0103148_0.0_0.0_toric.csv\", initial_states=(0,0))\n",
    "run(code, decoder, iterations=10000, decode_initial=False)\n",
    "\n",
    "# %lprun -f code.init_superoperator_errors run(code, decoder, iterations=4, decode_initial=False)"
   ]
  },
  {
   "cell_type": "markdown",
   "metadata": {},
   "source": [
    "### Phenomenological"
   ]
  },
  {
   "cell_type": "code",
   "execution_count": 4,
   "metadata": {},
   "outputs": [
    {
     "name": "stdout",
     "output_type": "stream",
     "text": [
      "Running iteration 10000/10000\n"
     ]
    },
    {
     "data": {
      "text/plain": [
       "{'no_error': 6699}"
      ]
     },
     "execution_count": 4,
     "metadata": {},
     "output_type": "execute_result"
    }
   ],
   "source": [
    "p_bitflip = 0.04\n",
    "p_phaseflip = 0.04\n",
    "p_bitflip_plaq = 0.0\n",
    "p_bitflip_star = 0.0\n",
    "\n",
    "\n",
    "code, decoder = initialize((4,4), \"toric\", \"unionfind\", enabled_errors=[\"pauli\"], plotting=False, initial_states=(0,0), faulty_measurements=True)\n",
    "run(code, decoder, iterations=10000, error_rates={\"p_bitflip\": p_bitflip, \"p_phaseflip\": p_phaseflip, \"p_bitflip_plaq\": p_bitflip_plaq, \"p_bitflip_star\": p_bitflip_star}, decode_initial=False)\n",
    "\n",
    "# %lprun -f run run(code, decoder, iterations=10, decode_initial=False)"
   ]
  },
  {
   "cell_type": "markdown",
   "metadata": {},
   "source": [
    "# Plotting"
   ]
  },
  {
   "cell_type": "code",
   "execution_count": 12,
   "metadata": {},
   "outputs": [],
   "source": [
    "from bokeh.plotting import figure, show\n",
    "from bokeh.models import Label\n",
    "from bokeh.util.compiler import TypeScript\n",
    "\n",
    "Z_error_rate = [0.03, 0.04, 0.06, 0.08, 0.09, 0.10, 0.105, 0.11, 0.12, 0.13]\n",
    "superoperator_Z_error_rate = [0.00767491, 0.0103148, 0.0157265, 0.021326, 0.0242011, 0.0271292, 0.0286139, 0.0301128, 0.0331543, 0.0362564]\n",
    "\n",
    "X_error_rate = [0.03, 0.04, 0.06, 0.08, 0.09, 0.10, 0.105, 0.11, 0.12, 0.13]\n",
    "superoperator_X_error_rate = [0.00767491, 0.0103148, 0.0157265, 0.021326, 0.0242011, 0.0271292, 0.0286139, 0.0301128, 0.0331543, 0.0362564]"
   ]
  },
  {
   "cell_type": "markdown",
   "metadata": {},
   "source": [
    "## Perfect Measurements Plot default qsurface (i.i.d. Z)"
   ]
  },
  {
   "cell_type": "code",
   "execution_count": 27,
   "metadata": {},
   "outputs": [],
   "source": [
    "fig = figure(title=\"Threshold for phenomenological i.i.d. Z errors (30k iterations, UnionFind)\", x_axis_label=\"error probability\", y_axis_label=\"successful decoding rate\")\n",
    "l6 = [0.972, 0.9651333333333333, 0.9204333333333333, 0.8329666666666666, 0.7802666666666667, 0.7151666666666666, 0.6911666666666667, 0.6646, 0.6042666666666666, 0.5486666666666666]\n",
    "l8 = [0.9984666666666666, 0.9918333333333333, 0.9562333333333334, 0.8632, 0.7992666666666667, 0.7240666666666666, 0.6883666666666667, 0.6488666666666667, 0.5745333333333333, 0.5149333333333334]\n",
    "l10 = [0.9995, 0.9967, 0.9717666666666667, 0.8831333333333333, 0.8141333333333334, 0.7293333333333333, 0.6875666666666667, 0.6377, 0.5548333333333333, 0.4791]\n",
    "l12 = [0.9999, 0.9987333333333334, 0.9797, 0.8982, 0.8194666666666667, 0.7273333333333334, 0.6774333333333333, 0.6279666666666667, 0.5353, 0.45286666666666664]\n",
    "\n",
    "fig.legend.title = \"Lattice Size\"\n",
    "fig.legend.location = \"top_right\"\n",
    "\n",
    "\n",
    "fig.line(Z_error_rate, l6, legend_label=\"6 X 6\", color=\"green\", line_width=2)\n",
    "fig.line(Z_error_rate, l8, legend_label=\"8 X 8\", color=\"navy\", line_width=2)\n",
    "fig.line(Z_error_rate, l10, legend_label=\"10 X 10\", color=\"red\", line_width=2)\n",
    "fig.line(Z_error_rate, l12, legend_label=\"12 X 12\", color=\"black\", line_width=2)\n",
    "\n",
    "fig.circle(Z_error_rate, l6, fill_color=\"green\", size=5)\n",
    "fig.circle(Z_error_rate, l8, fill_color=\"navy\", size=5)\n",
    "fig.circle(Z_error_rate, l10, fill_color=\"red\", size=5)\n",
    "fig.circle(Z_error_rate, l12, fill_color=\"black\", size=5)\n",
    "\n",
    "show(fig)"
   ]
  }
 ],
 "metadata": {
  "interpreter": {
   "hash": "9bfd7e0ac6c4fb4883d1816db194b100cfb22b200c60c9d7cb3608e57349e9c0"
  },
  "kernelspec": {
   "display_name": "Python 3.10.0 ('qsurface--vZ0vH2w')",
   "language": "python",
   "name": "python3"
  },
  "language_info": {
   "codemirror_mode": {
    "name": "ipython",
    "version": 3
   },
   "file_extension": ".py",
   "mimetype": "text/x-python",
   "name": "python",
   "nbconvert_exporter": "python",
   "pygments_lexer": "ipython3",
   "version": "3.9.7"
  },
  "orig_nbformat": 4
 },
 "nbformat": 4,
 "nbformat_minor": 2
}
