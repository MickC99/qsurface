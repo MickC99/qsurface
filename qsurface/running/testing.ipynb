{
 "cells": [
  {
   "cell_type": "code",
   "execution_count": 2,
   "metadata": {},
   "outputs": [],
   "source": [
    "from qsurface.main import create_phenomenological_toric_superoperator, create_phenomenological_weight_3_toric_superoperator, initialize, run, BenchmarkDecoder, run_multiprocess_superoperator\n",
    "from qsurface.decoders import mwpm\n",
    "import pandas as pd\n",
    "\n",
    "%load_ext line_profiler"
   ]
  },
  {
   "cell_type": "markdown",
   "metadata": {},
   "source": [
    "# Toric comparison Phenomeological: Inbuilt vs Superoperator"
   ]
  },
  {
   "cell_type": "markdown",
   "metadata": {},
   "source": [
    "### Superoperator"
   ]
  },
  {
   "cell_type": "code",
   "execution_count": 2,
   "metadata": {},
   "outputs": [],
   "source": [
    "create_phenomenological_toric_superoperator([0.03,0.03,0.03,0.03])"
   ]
  },
  {
   "cell_type": "code",
   "execution_count": 5,
   "metadata": {},
   "outputs": [
    {
     "name": "stdout",
     "output_type": "stream",
     "text": [
      "Running iteration 1000/1000\n",
      "{'no_error': 754, 'benchmark': {'decoded': 999, 'iterations': 1000, 'seed': 749.6737757, 'duration/decode/mean': 0.0014002708999995548, 'duration/decode/std': 0.0011852075302904617, 'count_calls/correct_edge/mean': 7.47047047047047, 'count_calls/correct_edge/std': 2.6563009644414493}}\n"
     ]
    }
   ],
   "source": [
    "code, decoder = initialize((4,4), \"toric\", \"unionfind\", plotting=False, superoperator_enable=True, sup_op_file=\"phenomenological_0.03_0.03_0.03_0.03_toric.csv\", initial_states=(0,0))\n",
    "benchmarker = BenchmarkDecoder({\n",
    "        \"decode\": [\"duration\", \"value_to_list\"],\n",
    "        \"correct_edge\": \"count_calls\",})\n",
    "print(run(code, decoder, iterations=1000, decode_initial=False, benchmark=benchmarker))\n",
    "\n",
    "# %lprun -f code.init_superoperator_errors run(code, decoder, iterations=4, decode_initial=False)"
   ]
  },
  {
   "cell_type": "markdown",
   "metadata": {},
   "source": [
    "### Superoperator multiprocessing"
   ]
  },
  {
   "cell_type": "code",
   "execution_count": null,
   "metadata": {},
   "outputs": [],
   "source": [
    "code, decoder = initialize((4,4), \"toric\", \"unionfind\", plotting=False, superoperator_enable=True, sup_op_file=\"C:/qarch/qsurface/data/phenomenological/phenomenological_0.0081995_0.0081995_0.032_0.032_toric.csv\", initial_states=(0,0))\n",
    "if __name__ == \"__main__\":\n",
    "        print(run_multiprocess_superoperator(code, decoder, iterations=100, decode_initial=False, seed=59))"
   ]
  },
  {
   "cell_type": "markdown",
   "metadata": {},
   "source": [
    "### Phenomenological"
   ]
  },
  {
   "cell_type": "code",
   "execution_count": 31,
   "metadata": {},
   "outputs": [
    {
     "name": "stdout",
     "output_type": "stream",
     "text": [
      "Running iteration 1000/1000\n",
      "{'no_error': 938, 'benchmark': {'decoded': 1000, 'iterations': 1000, 'seed': 46831.2769418, 'duration/decode/mean': 0.10618934699990495, 'duration/decode/std': 0.043056208289644675, 'count_calls/correct_edge/mean': 47.199, 'count_calls/correct_edge/std': 6.546250759022297}}\n",
      "{'decoded': 1000, 'iterations': 1000, 'seed': 46831.2769418}\n"
     ]
    }
   ],
   "source": [
    "p_bitflip = 0.024\n",
    "p_phaseflip = 0.024\n",
    "p_bitflip_plaq = 0.024\n",
    "p_bitflip_star = 0.024\n",
    "\n",
    "benchmarker = BenchmarkDecoder({\n",
    "        \"decode\": [\"duration\", \"value_to_list\"],\n",
    "        \"correct_edge\": \"count_calls\",})\n",
    "\n",
    "code, decoder = initialize((8,8), \"toric\", \"mwpm\", enabled_errors=[\"pauli\"], plotting=False, initial_states=(0,0), faulty_measurements=True)\n",
    "print(run(code, decoder, iterations=1000, error_rates={\"p_bitflip\": p_bitflip, \"p_phaseflip\": p_phaseflip, \"p_bitflip_plaq\": p_bitflip_plaq, \"p_bitflip_star\": p_bitflip_star}, decode_initial=False, benchmark=benchmarker))\n",
    "print(benchmarker.data)\n",
    "# %lprun -f run run(code, decoder, iterations=10, decode_initial=False)"
   ]
  },
  {
   "cell_type": "markdown",
   "metadata": {},
   "source": [
    "# Plotting"
   ]
  },
  {
   "cell_type": "code",
   "execution_count": 51,
   "metadata": {},
   "outputs": [],
   "source": [
    "from bokeh.plotting import figure, show\n",
    "from bokeh.models import Label\n",
    "from bokeh.util.compiler import TypeScript"
   ]
  },
  {
   "cell_type": "markdown",
   "metadata": {},
   "source": [
    "## Perfect Measurements Plot default qsurface (i.i.d. Z)"
   ]
  },
  {
   "cell_type": "code",
   "execution_count": 52,
   "metadata": {},
   "outputs": [
    {
     "name": "stderr",
     "output_type": "stream",
     "text": [
      "c:\\qarch\\qs_env\\lib\\site-packages\\bokeh\\models\\plots.py:815: UserWarning: \n",
      "You are attempting to set `plot.legend.title` on a plot that has zero legends added, this will have no effect.\n",
      "\n",
      "Before legend properties can be set, you must add a Legend explicitly, or call a glyph method with a legend parameter set.\n",
      "\n",
      "  warnings.warn(_LEGEND_EMPTY_WARNING % attr)\n",
      "c:\\qarch\\qs_env\\lib\\site-packages\\bokeh\\models\\plots.py:815: UserWarning: \n",
      "You are attempting to set `plot.legend.location` on a plot that has zero legends added, this will have no effect.\n",
      "\n",
      "Before legend properties can be set, you must add a Legend explicitly, or call a glyph method with a legend parameter set.\n",
      "\n",
      "  warnings.warn(_LEGEND_EMPTY_WARNING % attr)\n"
     ]
    }
   ],
   "source": [
    "\n",
    "Z_error_rate = [0.03, 0.04, 0.06, 0.08, 0.09, 0.10, 0.105, 0.11, 0.12, 0.13]\n",
    "superoperator_Z_error_rate = [0.00767491, 0.0103148, 0.0157265, 0.021326, 0.0242011, 0.0271292, 0.0286139, 0.0301128, 0.0331543, 0.0362564]\n",
    "\n",
    "X_error_rate = [0.03, 0.04, 0.06, 0.08, 0.09, 0.10, 0.105, 0.11, 0.12, 0.13]\n",
    "superoperator_X_error_rate = [0.00767491, 0.0103148, 0.0157265, 0.021326, 0.0242011, 0.0271292, 0.0286139, 0.0301128, 0.0331543, 0.0362564]\n",
    "\n",
    "fig = figure(title=\"Threshold for phenomenological i.i.d. Z errors (30k iterations, UnionFind)\", x_axis_label=\"error probability\", y_axis_label=\"successful decoding rate\")\n",
    "l6 = [0.972, 0.9651333333333333, 0.9204333333333333, 0.8329666666666666, 0.7802666666666667, 0.7151666666666666, 0.6911666666666667, 0.6646, 0.6042666666666666, 0.5486666666666666]\n",
    "l8 = [0.9984666666666666, 0.9918333333333333, 0.9562333333333334, 0.8632, 0.7992666666666667, 0.7240666666666666, 0.6883666666666667, 0.6488666666666667, 0.5745333333333333, 0.5149333333333334]\n",
    "l10 = [0.9995, 0.9967, 0.9717666666666667, 0.8831333333333333, 0.8141333333333334, 0.7293333333333333, 0.6875666666666667, 0.6377, 0.5548333333333333, 0.4791]\n",
    "l12 = [0.9999, 0.9987333333333334, 0.9797, 0.8982, 0.8194666666666667, 0.7273333333333334, 0.6774333333333333, 0.6279666666666667, 0.5353, 0.45286666666666664]\n",
    "\n",
    "fig.legend.title = \"Lattice Size\"\n",
    "fig.legend.location = \"top_right\"\n",
    "\n",
    "\n",
    "fig.line(Z_error_rate, l6, legend_label=\"6 X 6\", color=\"green\", line_width=2)\n",
    "fig.line(Z_error_rate, l8, legend_label=\"8 X 8\", color=\"navy\", line_width=2)\n",
    "fig.line(Z_error_rate, l10, legend_label=\"10 X 10\", color=\"red\", line_width=2)\n",
    "fig.line(Z_error_rate, l12, legend_label=\"12 X 12\", color=\"black\", line_width=2)\n",
    "\n",
    "fig.circle(Z_error_rate, l6, fill_color=\"green\", size=5)\n",
    "fig.circle(Z_error_rate, l8, fill_color=\"navy\", size=5)\n",
    "fig.circle(Z_error_rate, l10, fill_color=\"red\", size=5)\n",
    "fig.circle(Z_error_rate, l12, fill_color=\"black\", size=5)\n",
    "\n",
    "show(fig)"
   ]
  },
  {
   "cell_type": "markdown",
   "metadata": {},
   "source": [
    "## Faulty Measurements phenomenological (original)"
   ]
  },
  {
   "cell_type": "code",
   "execution_count": 53,
   "metadata": {},
   "outputs": [],
   "source": [
    "p = [0.024, 0.026, 0.028, 0.029, 0.030, 0.032]\n",
    "\n",
    "fig = figure(title=\"Threshold for toric faulty measurements (10k iterations, UnionFind)\", x_axis_label=\"error probability p\", y_axis_label=\"successful decoding rate\")\n",
    "\n",
    "l6 = [0.8962, 0.8556, 0.8026, 0.7817, 0.7485, 0.6973]\n",
    "l8 = [0.9185, 0.8665, 0.8086, 0.7802, 0.7394, 0.6556]\n",
    "l10 = [0.9315, 0.8758, 0.8036, 0.7558, 0.7093, 0.6068]\n",
    "l12 = [0.94, 0.879, 0.7953, 0.7448, 0.6738, 0.5419]\n",
    "\n",
    "fig.line(p, l6, legend_label=\"6 X 6\", color=\"green\", line_width=2)\n",
    "fig.line(p, l8, legend_label=\"8 X 8\", color=\"navy\", line_width=2)\n",
    "fig.line(p, l10, legend_label=\"10 X 10\", color=\"red\", line_width=2)\n",
    "fig.line(p, l12, legend_label=\"12 X 12\", color=\"black\", line_width=2)\n",
    "\n",
    "fig.circle(p, l6, fill_color=\"green\", size=5)\n",
    "fig.circle(p, l8, fill_color=\"navy\", size=5)\n",
    "fig.circle(p, l10, fill_color=\"red\", size=5)\n",
    "fig.circle(p, l12, fill_color=\"black\", size=5)\n",
    "\n",
    "show(fig)"
   ]
  },
  {
   "cell_type": "code",
   "execution_count": 55,
   "metadata": {},
   "outputs": [
    {
     "name": "stderr",
     "output_type": "stream",
     "text": [
      "c:\\qarch\\qs_env\\lib\\site-packages\\scipy\\optimize\\_minpack_py.py:833: OptimizeWarning: Covariance of the parameters could not be estimated\n",
      "  warnings.warn('Covariance of the parameters could not be estimated',\n"
     ]
    },
    {
     "data": {
      "image/png": "[encoded data removed]",
      "text/plain": [
       "<Figure size 360x180 with 1 Axes>"
      ]
     },
     "metadata": {},
     "output_type": "display_data"
    }
   ],
   "source": [
    "import numpy as np\n",
    "from scipy.optimize import curve_fit\n",
    "import matplotlib.pyplot as plt\n",
    "import math\n",
    "\n",
    "# 100k iterations union find, sweeping over error rates, 8X8 lattices\n",
    "super8x8 = np.array([0.91377, 0.86901, 0.81006, 0.73659, 0.65606])\n",
    "original8x8 = np.array([0.91455, 0.868, 0.80849, 0.73488, 0.6559])\n",
    "rates = np.array([2.4, 2.6, 2.8, 3.0, 3.2])\n",
    "\n",
    "def fitting_function(x, a0, a1, a2, mu, pth):\n",
    "    return a0+a1*(x-pth)*(8**(1/mu))+a2*((x-pth)**2)*(8**(2/mu))\n",
    "\n",
    "def err(x):\n",
    "    return math.sqrt(x*(1-x)/9999)\n",
    "error_super = [err(x) for x in super8x8]\n",
    "error_original = [err(x) for x in original8x8]\n",
    "\n",
    "rng = np.random.default_rng()\n",
    "popt_super, pcov_super = curve_fit(fitting_function, rates, super8x8)\n",
    "popt_original, pcov_original = curve_fit(fitting_function, rates, original8x8)\n",
    "\n",
    "fig = plt.figure(figsize=(5,2.5))\n",
    "fig.set_facecolor(\"w\")\n",
    "ax1 = fig.add_subplot()\n",
    "ax1.set_title('8x8 lattice with X and Z errors with MWPM decoder, with 100k iterations (superoperator vs original)')\n",
    "ax1.set_ylabel('Decoding success rate')\n",
    "ax1.set_xlabel('pg=pm (in %)')\n",
    "plt.grid()\n",
    "\n",
    "plt.errorbar(rates,super8x8,yerr=error_super, fmt='k.')\n",
    "plt.plot(np.linspace(2.2, 3.4, 100),fitting_function(np.linspace(2.2, 3.4, 100),popt_super[0],popt_super[1],popt_super[2],popt_super[3],popt_super[4]),'r--', label='superoperator')\n",
    "\n",
    "plt.errorbar(rates,original8x8,yerr=error_original,fmt='b.')\n",
    "plt.plot(np.linspace(2.2, 3.4, 100),fitting_function(np.linspace(2.2, 3.4, 100),popt_original[0],popt_original[1],popt_original[2],popt_original[3],popt_original[4]),'g--', label='original')\n",
    "plt.legend(['superoperator fit','original fit','superoperator data','original data'])\n",
    "plt.savefig('comparison.pdf')\n"
   ]
  },
  {
   "cell_type": "code",
   "execution_count": 32,
   "metadata": {},
   "outputs": [],
   "source": [
    "{(4, 4): [0.84653], (5, 5): [0.93858], (6, 6): [0.9086], (7, 7): [0.95859], (8, 8): [0.93973]} # Original\n",
    "{(4, 4): [0.84479], (5, 5): [0.93904], (6, 6): [0.90901], (7, 7): [0.95795], (8, 8): [0.93995]} # Super"
   ]
  },
  {
   "cell_type": "markdown",
   "metadata": {},
   "source": [
    "# Weight-3 Phenomenological Superoperator Creator"
   ]
  },
  {
   "cell_type": "code",
   "execution_count": 38,
   "metadata": {},
   "outputs": [],
   "source": [
    "# create_phenomenological_weight_3_toric_superoperator(1,0.9, [0.005,0.005,0.005,0.005,0.005,0.005])\n",
    "# create_phenomenological_weight_3_toric_superoperator(1,0.9, [0.01,0.01,0.01,0.01,0.01,0.01])\n",
    "# create_phenomenological_weight_3_toric_superoperator(1,0.9, [0.015,0.015,0.015,0.015,0.015,0.015])\n",
    "# create_phenomenological_weight_3_toric_superoperator(1,0.9, [0.02,0.02,0.02,0.02,0.02,0.02])\n",
    "# create_phenomenological_weight_3_toric_superoperator(1,0.9, [0.025,0.025,0.025,0.025,0.025,0.025])\n",
    "# create_phenomenological_weight_3_toric_superoperator(1,0.9, [0.03,0.03,0.03,0.03,0.03,0.03])\n",
    "# create_phenomenological_weight_3_toric_superoperator(1,0.9, [0.035,0.035,0.035,0.035,0.035,0.035])\n",
    "# create_phenomenological_weight_3_toric_superoperator(1,0.9, [0.04,0.04,0.04,0.04,0.04,0.04])\n",
    "create_phenomenological_weight_3_toric_superoperator(1,0.9, [0.05,0.05,0.05,0.05,0.05,0.05])"
   ]
  },
  {
   "cell_type": "markdown",
   "metadata": {},
   "source": [
    "# Weight-3 vs phenomenological"
   ]
  },
  {
   "cell_type": "code",
   "execution_count": 15,
   "metadata": {},
   "outputs": [
    {
     "name": "stdout",
     "output_type": "stream",
     "text": [
      "Running iteration 2000/2000\n",
      "{'no_error': 796, 'benchmark': {'decoded': 2000, 'iterations': 2000, 'seed': 5811.743537, 'duration/decode/mean': 0.0016770700500019302, 'duration/decode/std': 0.0014941176013230164, 'count_calls/correct_edge/mean': 11.7955, 'count_calls/correct_edge/std': 3.157796660648054}}\n",
      "{'decoded': 2000, 'iterations': 2000, 'seed': 5811.743537}\n"
     ]
    }
   ],
   "source": [
    "p_bitflip = 0.05\n",
    "p_phaseflip = 0.05\n",
    "p_bitflip_plaq = 0.05\n",
    "p_bitflip_star = 0.05\n",
    "\n",
    "benchmarker = BenchmarkDecoder({\n",
    "        \"decode\": [\"duration\", \"value_to_list\"],\n",
    "        \"correct_edge\": \"count_calls\",})\n",
    "\n",
    "code, decoder = initialize((4,4), \"toric\", \"unionfind\", enabled_errors=[\"pauli\"], plotting=False, initial_states=(0,0), faulty_measurements=True)\n",
    "print(run(code, decoder, iterations=2000, error_rates={\"p_bitflip\": p_bitflip, \"p_phaseflip\": p_phaseflip, \"p_bitflip_plaq\": p_bitflip_plaq, \"p_bitflip_star\": p_bitflip_star}, decode_initial=False, benchmark=benchmarker))\n",
    "print(benchmarker.data)\n",
    "# %lprun -f run run(code, decoder, iterations=10, decode_initial=False)"
   ]
  },
  {
   "cell_type": "code",
   "execution_count": 43,
   "metadata": {},
   "outputs": [
    {
     "name": "stdout",
     "output_type": "stream",
     "text": [
      "Running iteration 100/100\n",
      "{'no_error': 50, 'benchmark': {'decoded': 100, 'iterations': 100, 'seed': 100.0, 'duration/decode/mean': 0.0015184300001419614, 'duration/decode/std': 0.00048373419095903156, 'count_calls/correct_edge/mean': 11.96, 'count_calls/correct_edge/std': 2.9220540720527404}}\n"
     ]
    },
    {
     "ename": "",
     "evalue": "",
     "output_type": "error",
     "traceback": [
      "\u001b[1;31mThe Kernel crashed while executing code in the the current cell or a previous cell. Please review the code in the cell(s) to identify a possible cause of the failure. Click <a href='https://aka.ms/vscodeJupyterKernelCrash'>here</a> for more info. View Jupyter <a href='command:jupyter.viewOutput'>log</a> for further details."
     ]
    }
   ],
   "source": [
    "code, decoder = initialize((4,4), \"weight_3_toric\", \"unionfind\", plotting=False, superoperator_enable=True, sup_op_file=\"phenomenological_wt_3_toric_px_0.05_pz_0.05_prx_0.05_prz_0.05_pmx_0.05_pmz_0.05_ghz_1.csv\", initial_states=(0,0))\n",
    "benchmarker = BenchmarkDecoder({\n",
    "        \"decode\": [\"duration\", \"value_to_list\"],\n",
    "        \"correct_edge\": \"count_calls\",})\n",
    "print(run(code, decoder, iterations=100, decode_initial=False, benchmark=benchmarker, seed=10))"
   ]
  },
  {
   "cell_type": "code",
   "execution_count": 35,
   "metadata": {},
   "outputs": [
    {
     "data": {
      "image/png": "[encoded data removed]",
      "text/plain": [
       "<Figure size 720x360 with 1 Axes>"
      ]
     },
     "metadata": {},
     "output_type": "display_data"
    }
   ],
   "source": [
    "import numpy as np\n",
    "from scipy.optimize import curve_fit\n",
    "import matplotlib.pyplot as plt\n",
    "import math\n",
    "\n",
    "weight_3 = np.array([0.9945666667, 0.9770333333, 0.9465333333, 0.8950666667, 0.8226666667, 0.7457333333, 0.6566, 0.5643666667])\n",
    "\n",
    "original = np.array([0.9946666666666667, 0.9762833333333333, 0.9440833333333334, 0.8974833333333333, 0.8236833333333333, 0.7462, 0.6551666666666667, 0.5647333333333333])\n",
    "rates = np.array([0.005, 0.01, 0.015, 0.02, 0.025, 0.03, 0.035, 0.04])\n",
    "iterations = 30000\n",
    "\n",
    "def fitting_function(x, a0, a1, a2, mu, pth):\n",
    "    return a0+a1*(x-pth)*(8**(1/mu))+a2*((x-pth)**2)*(8**(2/mu))\n",
    "\n",
    "def err(x):\n",
    "    return math.sqrt((x**2 * (1-x) + x * (1-x)**2 )/3000)\n",
    "error_wt_3 = [err(x) for x in weight_3]\n",
    "error_original = [err(x) for x in original]\n",
    "\n",
    "rng = np.random.default_rng()\n",
    "popt_super, pcov_super = curve_fit(fitting_function, rates, weight_3)\n",
    "popt_original, pcov_original = curve_fit(fitting_function, rates, original)\n",
    "\n",
    "fig = plt.figure(figsize=(10,5))\n",
    "fig.set_facecolor(\"w\")\n",
    "ax1 = fig.add_subplot()\n",
    "ax1.set_title('4X4 lattice with X and Z errors with UF decoder, with 30k iterations (weight-3 vs original)')\n",
    "ax1.set_ylabel('Decoding success rate')\n",
    "ax1.set_xlabel('physical pauli error (in %)')\n",
    "plt.grid()\n",
    "\n",
    "plt.errorbar(rates,weight_3,yerr=error_wt_3, fmt='k.')\n",
    "plt.plot(np.linspace(0.0, 0.05, 100),fitting_function(np.linspace(0.0, 0.05, 100),popt_super[0],popt_super[1],popt_super[2],popt_super[3],popt_super[4]),'r--', label='superoperator')\n",
    "\n",
    "plt.errorbar(rates,original,yerr=error_original,fmt='b.')\n",
    "plt.plot(np.linspace(0.0, 0.05, 100),fitting_function(np.linspace(0.0, 0.05, 100),popt_original[0],popt_original[1],popt_original[2],popt_original[3],popt_original[4]),'g--', label='original')\n",
    "plt.legend(['weight-3 fit','original fit','weight-3 data','original data'])\n",
    "plt.savefig('comparison.pdf')\n"
   ]
  }
 ],
 "metadata": {
  "kernelspec": {
   "display_name": "Python 3.10.4 ('qsurf')",
   "language": "python",
   "name": "python3"
  },
  "language_info": {
   "codemirror_mode": {
    "name": "ipython",
    "version": 3
   },
   "file_extension": ".py",
   "mimetype": "text/x-python",
   "name": "python",
   "nbconvert_exporter": "python",
   "pygments_lexer": "ipython3",
   "version": "3.10.4"
  },
  "orig_nbformat": 4,
  "vscode": {
   "interpreter": {
    "hash": "92e67224b2b1ae0359cf31d96b71754012b881ad13225b79a0c3d612276b44d1"
   }
  }
 },
 "nbformat": 4,
 "nbformat_minor": 2
}
