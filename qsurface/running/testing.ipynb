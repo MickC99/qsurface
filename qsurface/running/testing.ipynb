{
 "cells": [
  {
   "cell_type": "code",
   "execution_count": 1,
   "metadata": {},
   "outputs": [
    {
     "name": "stdout",
     "output_type": "stream",
     "text": [
      "a\n",
      "b\n",
      "c\n",
      "d\n",
      "e\n",
      "f\n"
     ]
    }
   ],
   "source": [
    "a = 'abcdef'\n",
    "for character in a:\n",
    "    print(character)"
   ]
  },
  {
   "cell_type": "code",
   "execution_count": 15,
   "metadata": {},
   "outputs": [
    {
     "ename": "FileNotFoundError",
     "evalue": "[WinError 3] The system cannot find the path specified: '../data/tests'",
     "output_type": "error",
     "traceback": [
      "\u001b[1;31m---------------------------------------------------------------------------\u001b[0m",
      "\u001b[1;31mFileNotFoundError\u001b[0m                         Traceback (most recent call last)",
      "\u001b[1;32mc:\\qarch\\qsurface\\qsurface\\running\\testing.ipynb Cell 2'\u001b[0m in \u001b[0;36m<cell line: 3>\u001b[1;34m()\u001b[0m\n\u001b[0;32m      <a href='vscode-notebook-cell:/c%3A/qarch/qsurface/qsurface/running/testing.ipynb#ch0000001?line=0'>1</a>\u001b[0m \u001b[39mfrom\u001b[39;00m \u001b[39mos\u001b[39;00m \u001b[39mimport\u001b[39;00m listdir\n\u001b[0;32m      <a href='vscode-notebook-cell:/c%3A/qarch/qsurface/qsurface/running/testing.ipynb#ch0000001?line=1'>2</a>\u001b[0m \u001b[39mfrom\u001b[39;00m \u001b[39mos\u001b[39;00m\u001b[39m.\u001b[39;00m\u001b[39mpath\u001b[39;00m \u001b[39mimport\u001b[39;00m isfile, join\n\u001b[1;32m----> <a href='vscode-notebook-cell:/c%3A/qarch/qsurface/qsurface/running/testing.ipynb#ch0000001?line=2'>3</a>\u001b[0m [f \u001b[39mfor\u001b[39;00m f \u001b[39min\u001b[39;00m listdir(\u001b[39m\"\u001b[39;49m\u001b[39m../data/tests\u001b[39;49m\u001b[39m\"\u001b[39;49m) \u001b[39mif\u001b[39;00m isfile(join(\u001b[39m\"\u001b[39m\u001b[39m../data/tests\u001b[39m\u001b[39m\"\u001b[39m, f))]\n",
      "\u001b[1;31mFileNotFoundError\u001b[0m: [WinError 3] The system cannot find the path specified: '../data/tests'"
     ]
    }
   ],
   "source": [
    "from os import listdir\n",
    "from os.path import isfile, join\n",
    "[f for f in listdir(\"../data/tests\") if isfile(join(\"../data/tests\", f))]"
   ]
  }
 ],
 "metadata": {
  "interpreter": {
   "hash": "9bfd7e0ac6c4fb4883d1816db194b100cfb22b200c60c9d7cb3608e57349e9c0"
  },
  "kernelspec": {
   "display_name": "Python 3.10.0 ('qsurface--vZ0vH2w')",
   "language": "python",
   "name": "python3"
  },
  "language_info": {
   "codemirror_mode": {
    "name": "ipython",
    "version": 3
   },
   "file_extension": ".py",
   "mimetype": "text/x-python",
   "name": "python",
   "nbconvert_exporter": "python",
   "pygments_lexer": "ipython3",
   "version": "3.10.0"
  },
  "orig_nbformat": 4
 },
 "nbformat": 4,
 "nbformat_minor": 2
}
