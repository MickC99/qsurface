{
 "cells": [
  {
   "cell_type": "code",
   "execution_count": 4,
   "metadata": {},
   "outputs": [],
   "source": [
    "from itertools import product\n",
    "import pandas as pd"
   ]
  },
  {
   "cell_type": "markdown",
   "metadata": {},
   "source": [
    "# Function for superoperator CSV creation for phenomenological noise"
   ]
  },
  {
   "cell_type": "code",
   "execution_count": 5,
   "metadata": {},
   "outputs": [],
   "source": [
    "def superoperator_creator(rates: list):\n",
    "    \n",
    "    p_bitflip: float = rates[0]\n",
    "    p_phaseflip: float = rates[1]\n",
    "    p_bitflip_plaq: float = rates[2]\n",
    "    p_bitflip_star: float = rates[3]\n",
    "    errors = {'I':(1-p_bitflip)*(1-p_phaseflip),'X':p_bitflip*(1-p_phaseflip), 'Y':p_bitflip*p_phaseflip, 'Z':p_phaseflip*(1-p_bitflip)}\n",
    "\n",
    "    stabilizers_p = []\n",
    "    stabilizers_s = []\n",
    "    lie = []\n",
    "    error_config = []\n",
    "    error_configs = [''.join(comb) for comb in product(list(errors.keys()), repeat=4)]\n",
    "\n",
    "    for error in error_configs:\n",
    "\n",
    "        value = 1\n",
    "        for pauli in error:\n",
    "            value = value * errors[pauli]\n",
    "        error_config.append(error)\n",
    "        stabilizers_p.append(value * (1 - p_bitflip_plaq))\n",
    "        stabilizers_s.append(value * (1 - p_bitflip_star))\n",
    "        lie.append(False)\n",
    "\n",
    "        error_config.append(error)\n",
    "        stabilizers_p.append(value * p_bitflip_plaq)\n",
    "        stabilizers_s.append(value * p_bitflip_star)\n",
    "        lie.append(True)\n",
    "\n",
    "    data_dict = {'error_config': error_config, 'lie': lie, 'p': stabilizers_p, 's': stabilizers_s}\n",
    "    data_frame = pd.DataFrame(data_dict)\n",
    "    data_frame.to_csv(f\"C:/qarch/qsurface/data/phenomenological/phenomenological_{p_bitflip}_{p_phaseflip}_{p_bitflip_plaq}_{p_bitflip_star}_toric.csv\", sep=';', index=False)\n",
    "    "
   ]
  },
  {
   "cell_type": "markdown",
   "metadata": {},
   "source": [
    "# Execution"
   ]
  },
  {
   "cell_type": "code",
   "execution_count": 7,
   "metadata": {},
   "outputs": [],
   "source": [
    "rates = [0.0081995, 0.0081995, 0.032, 0.032]\n",
    "superoperator_creator(rates)"
   ]
  },
  {
   "cell_type": "markdown",
   "metadata": {},
   "source": [
    "## New phenomenological superoperator (ordering matters in simulator)"
   ]
  },
  {
   "cell_type": "code",
   "execution_count": 54,
   "metadata": {},
   "outputs": [],
   "source": [
    "p_bitflip: float = 0.021326\n",
    "p_phaseflip: float = 0.0\n",
    "p_bitflip_plaq: float = 0.0\n",
    "p_bitflip_star: float = 0.0\n",
    "\n",
    "index = [(''.join(comb), lie) for comb, lie in product(product(list(errors.keys()), repeat=4), (True, False))]\n",
    "\n",
    "df = pd.DataFrame(0, index=pd.MultiIndex.from_tuples(index, names=(\"error_config\", \"lie\")), columns=['p', 's'])\n",
    "\n",
    "lie = True\n",
    "df.loc[(\"IIII\", lie), \"p\"] = (1-p_bitflip)**2 * p_bitflip_plaq\n",
    "df.loc[(\"IIIX\", lie), \"p\"] = (1-p_bitflip) * p_bitflip * p_bitflip_plaq\n",
    "df.loc[(\"IIXI\", lie), \"p\"] = (1-p_bitflip) * p_bitflip * p_bitflip_plaq\n",
    "df.loc[(\"IIXX\", lie), \"p\"] = p_bitflip**2 * p_bitflip_plaq\n",
    "\n",
    "df.loc[(\"IIII\", lie), \"s\"] = (1-p_phaseflip)**2 * p_bitflip_star\n",
    "df.loc[(\"IIIZ\", lie), \"s\"] = (1-p_phaseflip) * p_phaseflip * p_bitflip_star\n",
    "df.loc[(\"IIZI\", lie), \"s\"] = (1-p_phaseflip) * p_phaseflip * p_bitflip_star\n",
    "df.loc[(\"IIZZ\", lie), \"s\"] = p_phaseflip**2 * p_bitflip_star\n",
    "\n",
    "lie = False\n",
    "df.loc[(\"IIII\", lie), \"p\"] = (1-p_bitflip)**2 * (1-p_bitflip_plaq)\n",
    "df.loc[(\"IIIX\", lie), \"p\"] = (1-p_bitflip) * p_bitflip * (1-p_bitflip_plaq)\n",
    "df.loc[(\"IIXI\", lie), \"p\"] = (1-p_bitflip) * p_bitflip * (1-p_bitflip_plaq)\n",
    "df.loc[(\"IIXX\", lie), \"p\"] = p_bitflip**2 * (1-p_bitflip_plaq)\n",
    "\n",
    "df.loc[(\"IIII\", lie), \"s\"] = (1-p_phaseflip)**2 * (1-p_bitflip_star)\n",
    "df.loc[(\"IIIZ\", lie), \"s\"] = (1-p_phaseflip) * p_phaseflip * (1-p_bitflip_star)\n",
    "df.loc[(\"IIZI\", lie), \"s\"] = (1-p_phaseflip) * p_phaseflip * (1-p_bitflip_star)\n",
    "df.loc[(\"IIZZ\", lie), \"s\"] = p_phaseflip**2 * (1-p_bitflip_star)\n",
    "\n",
    "df.to_csv(f\"C:/qarch/qsurface/data/phenomenological/phenomenological_new_{p_bitflip}_{p_phaseflip}_{p_bitflip_plaq}_{p_bitflip_star}_toric.csv\", sep=';', index=True)"
   ]
  }
 ],
 "metadata": {
  "interpreter": {
   "hash": "9741a63e3bbb66ce0aff41f9307f59d64508d67e9174abd017bb37ca15f82d9d"
  },
  "kernelspec": {
   "display_name": "Python 3.9.7 ('qs_env')",
   "language": "python",
   "name": "python3"
  },
  "language_info": {
   "codemirror_mode": {
    "name": "ipython",
    "version": 3
   },
   "file_extension": ".py",
   "mimetype": "text/x-python",
   "name": "python",
   "nbconvert_exporter": "python",
   "pygments_lexer": "ipython3",
   "version": "3.9.7"
  },
  "orig_nbformat": 4
 },
 "nbformat": 4,
 "nbformat_minor": 2
}
