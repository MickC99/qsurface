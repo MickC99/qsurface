{
 "cells": [
  {
   "cell_type": "code",
   "execution_count": 70,
   "metadata": {},
   "outputs": [],
   "source": [
    "from itertools import product\n",
    "import pandas as pd"
   ]
  },
  {
   "cell_type": "markdown",
   "metadata": {},
   "source": [
    "# Function for superoperator CSV creation for phenomenological noise"
   ]
  },
  {
   "cell_type": "code",
   "execution_count": 71,
   "metadata": {},
   "outputs": [],
   "source": [
    "def superoperator_creator(rates: list):\n",
    "    p_bitflip: float = rates[0]\n",
    "    p_phaseflip: float = rates[1]\n",
    "    p_bitflip_plaq: float = rates[2]\n",
    "    p_bitflip_star: float = rates[3]\n",
    "    errors = {'I':(1-p_bitflip)*(1-p_phaseflip),'X':p_bitflip*(1-p_phaseflip), 'Y':p_bitflip*p_phaseflip, 'Z':p_phaseflip*(1-p_bitflip)}\n",
    "\n",
    "    stabilizers_p = []\n",
    "    stabilizers_s = []\n",
    "    lie = []\n",
    "    error_config = []\n",
    "    error_configs = [''.join(comb) for comb in product(list(errors.keys()), repeat=4)]\n",
    "\n",
    "    for error in error_configs:\n",
    "\n",
    "        value = 1\n",
    "        for pauli in error:\n",
    "            value = value * errors[pauli]\n",
    "        error_config.append(error)\n",
    "        stabilizers_p.append(value * (1 - p_bitflip_plaq))\n",
    "        stabilizers_s.append(value * (1 - p_bitflip_star))\n",
    "        lie.append(False)\n",
    "\n",
    "        error_config.append(error)\n",
    "        stabilizers_p.append(value * p_bitflip_plaq)\n",
    "        stabilizers_s.append(value * p_bitflip_star)\n",
    "        lie.append(True)\n",
    "\n",
    "    data_dict = {'error_config': error_config, 'lie': lie, 'p': stabilizers_p, 's': stabilizers_s}\n",
    "    data_frame = pd.DataFrame(data_dict)\n",
    "    data_frame.to_csv(f\"C:/qarch/qsurface/data/phenomenological/phenomenological_{p_bitflip}_{p_phaseflip}_{p_bitflip_plaq}_{p_bitflip_star}_toric.csv\", sep=';', index=False)\n",
    "    "
   ]
  },
  {
   "cell_type": "markdown",
   "metadata": {},
   "source": [
    "# Execution"
   ]
  },
  {
   "cell_type": "code",
   "execution_count": 91,
   "metadata": {},
   "outputs": [],
   "source": [
    "rates = [0.0103148, 0.0103148, 0.0, 0.0]\n",
    "superoperator_creator(rates)"
   ]
  },
  {
   "cell_type": "code",
   "execution_count": 115,
   "metadata": {},
   "outputs": [
    {
     "name": "stdout",
     "output_type": "stream",
     "text": [
      "0.0 0.0\n",
      "0.01 0.002518971803655956\n",
      "0.02 0.005076799616023475\n",
      "0.03 0.007674911394090711\n",
      "0.04 0.010314819332220337\n",
      "0.05 0.012998126787351627\n",
      "0.06 0.01572653594154938\n",
      "0.07 0.01850185629912071\n",
      "0.08 0.021326014130920223\n",
      "0.09 0.024201062996736578\n",
      "0.1 0.027129195498412084\n",
      "0.11 0.030112756442360777\n",
      "0.12 0.03315425762139196\n",
      "0.13 0.03625639446342155\n"
     ]
    }
   ],
   "source": [
    "import math\n",
    "def alpha_new(a):\n",
    "    b = (1-(1-2*a)**(1/4))/2\n",
    "    return b\n",
    "\n",
    "errors = [i/100 for i in range(14)]\n",
    "for i in errors:\n",
    "    print(i, alpha_new(i))"
   ]
  },
  {
   "cell_type": "code",
   "execution_count": 113,
   "metadata": {},
   "outputs": [
    {
     "data": {
      "text/plain": [
       "1.4142135623730951"
      ]
     },
     "execution_count": 113,
     "metadata": {},
     "output_type": "execute_result"
    }
   ],
   "source": [
    "2**(1/2)"
   ]
  },
  {
   "cell_type": "markdown",
   "metadata": {},
   "source": [
    "## New phenomenological superoperator (ordering matters in simulator)"
   ]
  },
  {
   "cell_type": "code",
   "execution_count": 54,
   "metadata": {},
   "outputs": [],
   "source": [
    "p_bitflip: float = 0.021326\n",
    "p_phaseflip: float = 0.0\n",
    "p_bitflip_plaq: float = 0.0\n",
    "p_bitflip_star: float = 0.0\n",
    "\n",
    "index = [(''.join(comb), lie) for comb, lie in product(product(list(errors.keys()), repeat=4), (True, False))]\n",
    "\n",
    "df = pd.DataFrame(0, index=pd.MultiIndex.from_tuples(index, names=(\"error_config\", \"lie\")), columns=['p', 's'])\n",
    "\n",
    "lie = True\n",
    "df.loc[(\"IIII\", lie), \"p\"] = (1-p_bitflip)**2 * p_bitflip_plaq\n",
    "df.loc[(\"IIIX\", lie), \"p\"] = (1-p_bitflip) * p_bitflip * p_bitflip_plaq\n",
    "df.loc[(\"IIXI\", lie), \"p\"] = (1-p_bitflip) * p_bitflip * p_bitflip_plaq\n",
    "df.loc[(\"IIXX\", lie), \"p\"] = p_bitflip**2 * p_bitflip_plaq\n",
    "\n",
    "df.loc[(\"IIII\", lie), \"s\"] = (1-p_phaseflip)**2 * p_bitflip_star\n",
    "df.loc[(\"IIIZ\", lie), \"s\"] = (1-p_phaseflip) * p_phaseflip * p_bitflip_star\n",
    "df.loc[(\"IIZI\", lie), \"s\"] = (1-p_phaseflip) * p_phaseflip * p_bitflip_star\n",
    "df.loc[(\"IIZZ\", lie), \"s\"] = p_phaseflip**2 * p_bitflip_star\n",
    "\n",
    "lie = False\n",
    "df.loc[(\"IIII\", lie), \"p\"] = (1-p_bitflip)**2 * (1-p_bitflip_plaq)\n",
    "df.loc[(\"IIIX\", lie), \"p\"] = (1-p_bitflip) * p_bitflip * (1-p_bitflip_plaq)\n",
    "df.loc[(\"IIXI\", lie), \"p\"] = (1-p_bitflip) * p_bitflip * (1-p_bitflip_plaq)\n",
    "df.loc[(\"IIXX\", lie), \"p\"] = p_bitflip**2 * (1-p_bitflip_plaq)\n",
    "\n",
    "df.loc[(\"IIII\", lie), \"s\"] = (1-p_phaseflip)**2 * (1-p_bitflip_star)\n",
    "df.loc[(\"IIIZ\", lie), \"s\"] = (1-p_phaseflip) * p_phaseflip * (1-p_bitflip_star)\n",
    "df.loc[(\"IIZI\", lie), \"s\"] = (1-p_phaseflip) * p_phaseflip * (1-p_bitflip_star)\n",
    "df.loc[(\"IIZZ\", lie), \"s\"] = p_phaseflip**2 * (1-p_bitflip_star)\n",
    "\n",
    "df.to_csv(f\"C:/qarch/qsurface/data/phenomenological/phenomenological_new_{p_bitflip}_{p_phaseflip}_{p_bitflip_plaq}_{p_bitflip_star}_toric.csv\", sep=';', index=True)"
   ]
  }
 ],
 "metadata": {
  "interpreter": {
   "hash": "9741a63e3bbb66ce0aff41f9307f59d64508d67e9174abd017bb37ca15f82d9d"
  },
  "kernelspec": {
   "display_name": "Python 3.9.7 ('qs_env')",
   "language": "python",
   "name": "python3"
  },
  "language_info": {
   "codemirror_mode": {
    "name": "ipython",
    "version": 3
   },
   "file_extension": ".py",
   "mimetype": "text/x-python",
   "name": "python",
   "nbconvert_exporter": "python",
   "pygments_lexer": "ipython3",
   "version": "3.9.7"
  },
  "orig_nbformat": 4
 },
 "nbformat": 4,
 "nbformat_minor": 2
}
