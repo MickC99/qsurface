{
 "cells": [
  {
   "cell_type": "code",
   "execution_count": 1,
   "metadata": {},
   "outputs": [],
   "source": [
    "from itertools import product\n",
    "import pandas as pd"
   ]
  },
  {
   "cell_type": "markdown",
   "metadata": {},
   "source": [
    "# Paramerters"
   ]
  },
  {
   "cell_type": "code",
   "execution_count": 10,
   "metadata": {},
   "outputs": [],
   "source": [
    "p_bitflip: float = 0.01\n",
    "p_phaseflip: float = 0.01\n",
    "p_bitflip_plaq: float = 0.01\n",
    "p_bitflip_star: float = 0.01\n",
    "errors = {'I':(1-p_bitflip)*(1-p_phaseflip),'X':p_bitflip*(1-p_phaseflip), 'Y':p_bitflip*p_phaseflip, 'Z':p_phaseflip*(1-p_bitflip)}"
   ]
  },
  {
   "cell_type": "markdown",
   "metadata": {},
   "source": [
    "# Computation"
   ]
  },
  {
   "cell_type": "markdown",
   "metadata": {},
   "source": [
    "## Calculation of stabilizer fidelities"
   ]
  },
  {
   "cell_type": "code",
   "execution_count": 11,
   "metadata": {},
   "outputs": [],
   "source": [
    "stabilizers_p = []\n",
    "stabilizers_s = []\n",
    "lie = []\n",
    "error_config = []\n",
    "error_configs = [''.join(comb) for comb in product(list(errors.keys()), repeat=4)]\n",
    "\n",
    "for error in error_configs:\n",
    "\n",
    "    value = 1\n",
    "    for pauli in error:\n",
    "        value = value * errors[pauli]\n",
    "    error_config.append(error)\n",
    "    stabilizers_p.append(value * (1 - p_bitflip_plaq))\n",
    "    stabilizers_s.append(value * (1 - p_bitflip_star))\n",
    "    lie.append(False)\n",
    "\n",
    "    error_config.append(error)\n",
    "    stabilizers_p.append(value * p_bitflip_plaq)\n",
    "    stabilizers_s.append(value * p_bitflip_star)\n",
    "    lie.append(True)"
   ]
  },
  {
   "cell_type": "markdown",
   "metadata": {},
   "source": [
    "## Making the CSV via pandas"
   ]
  },
  {
   "cell_type": "code",
   "execution_count": 12,
   "metadata": {},
   "outputs": [],
   "source": [
    "data_dict = {'error_config': error_config, 'lie': lie, 'p': stabilizers_p, 's': stabilizers_s}\n",
    "data_frame = pd.DataFrame(data_dict)\n",
    "data_frame.to_csv(f\"C:/qarch/qsurface/data/phenomenological/phenomenological_{p_bitflip}_{p_phaseflip}_{p_bitflip_plaq}_{p_bitflip_star}_toric.csv\", sep=';', index=False)"
   ]
  },
  {
   "cell_type": "markdown",
   "metadata": {},
   "source": [
    "## New phenomenological superoperator (ordering matters in simulator)"
   ]
  },
  {
   "cell_type": "code",
   "execution_count": 8,
   "metadata": {},
   "outputs": [],
   "source": [
    "\n",
    "index = [(''.join(comb), lie) for comb, lie in product(product(list(errors.keys()), repeat=4), (True, False))]\n",
    "\n",
    "df = pd.DataFrame(0, index=pd.MultiIndex.from_tuples(index, names=(\"error_config\", \"lie\")), columns=['p', 's'])\n",
    "\n",
    "lie = True\n",
    "df.loc[(\"IIII\", lie), \"p\"] = (1-p_bitflip)**2 * p_bitflip_plaq\n",
    "df.loc[(\"IIIX\", lie), \"p\"] = (1-p_bitflip) * p_bitflip * p_bitflip_plaq\n",
    "df.loc[(\"IIXI\", lie), \"p\"] = (1-p_bitflip) * p_bitflip * p_bitflip_plaq\n",
    "df.loc[(\"IIXX\", lie), \"p\"] = p_bitflip**2 * p_bitflip_plaq\n",
    "\n",
    "df.loc[(\"IIII\", lie), \"s\"] = (1-p_phaseflip)**2 * p_bitflip_star\n",
    "df.loc[(\"IIIZ\", lie), \"s\"] = (1-p_phaseflip) * p_phaseflip * p_bitflip_star\n",
    "df.loc[(\"IIZI\", lie), \"s\"] = (1-p_phaseflip) * p_phaseflip * p_bitflip_star\n",
    "df.loc[(\"IIZZ\", lie), \"s\"] = p_phaseflip**2 * p_bitflip_star\n",
    "\n",
    "lie = False\n",
    "df.loc[(\"IIII\", lie), \"p\"] = (1-p_bitflip)**2 * (1-p_bitflip_plaq)\n",
    "df.loc[(\"IIIX\", lie), \"p\"] = (1-p_bitflip) * p_bitflip * (1-p_bitflip_plaq)\n",
    "df.loc[(\"IIXI\", lie), \"p\"] = (1-p_bitflip) * p_bitflip * (1-p_bitflip_plaq)\n",
    "df.loc[(\"IIXX\", lie), \"p\"] = p_bitflip**2 * (1-p_bitflip_plaq)\n",
    "\n",
    "df.loc[(\"IIII\", lie), \"s\"] = (1-p_phaseflip)**2 * (1-p_bitflip_star)\n",
    "df.loc[(\"IIIZ\", lie), \"s\"] = (1-p_phaseflip) * p_phaseflip * (1-p_bitflip_star)\n",
    "df.loc[(\"IIZI\", lie), \"s\"] = (1-p_phaseflip) * p_phaseflip * (1-p_bitflip_star)\n",
    "df.loc[(\"IIZZ\", lie), \"s\"] = p_phaseflip**2 * (1-p_bitflip_star)\n",
    "\n",
    "df.to_csv(f\"C:/qarch/qsurface/data/phenomenological/phenomenological_new_{p_bitflip}_{p_phaseflip}_{p_bitflip_plaq}_{p_bitflip_star}_toric.csv\", sep=';', index=True)"
   ]
  },
  {
   "cell_type": "code",
   "execution_count": 13,
   "metadata": {},
   "outputs": [
    {
     "data": {
      "text/html": [
       "<div>\n",
       "<style scoped>\n",
       "    .dataframe tbody tr th:only-of-type {\n",
       "        vertical-align: middle;\n",
       "    }\n",
       "\n",
       "    .dataframe tbody tr th {\n",
       "        vertical-align: top;\n",
       "    }\n",
       "\n",
       "    .dataframe thead th {\n",
       "        text-align: right;\n",
       "    }\n",
       "</style>\n",
       "<table border=\"1\" class=\"dataframe\">\n",
       "  <thead>\n",
       "    <tr style=\"text-align: right;\">\n",
       "      <th></th>\n",
       "      <th>error_config</th>\n",
       "      <th>lie</th>\n",
       "      <th>p</th>\n",
       "      <th>s</th>\n",
       "    </tr>\n",
       "  </thead>\n",
       "  <tbody>\n",
       "    <tr>\n",
       "      <th>0</th>\n",
       "      <td>IIII</td>\n",
       "      <td>False</td>\n",
       "      <td>9.135172e-01</td>\n",
       "      <td>9.135172e-01</td>\n",
       "    </tr>\n",
       "    <tr>\n",
       "      <th>1</th>\n",
       "      <td>IIII</td>\n",
       "      <td>True</td>\n",
       "      <td>9.227447e-03</td>\n",
       "      <td>9.227447e-03</td>\n",
       "    </tr>\n",
       "    <tr>\n",
       "      <th>2</th>\n",
       "      <td>IIIX</td>\n",
       "      <td>False</td>\n",
       "      <td>9.227447e-03</td>\n",
       "      <td>9.227447e-03</td>\n",
       "    </tr>\n",
       "    <tr>\n",
       "      <th>3</th>\n",
       "      <td>IIIX</td>\n",
       "      <td>True</td>\n",
       "      <td>9.320653e-05</td>\n",
       "      <td>9.320653e-05</td>\n",
       "    </tr>\n",
       "    <tr>\n",
       "      <th>4</th>\n",
       "      <td>IIIY</td>\n",
       "      <td>False</td>\n",
       "      <td>9.320653e-05</td>\n",
       "      <td>9.320653e-05</td>\n",
       "    </tr>\n",
       "    <tr>\n",
       "      <th>...</th>\n",
       "      <td>...</td>\n",
       "      <td>...</td>\n",
       "      <td>...</td>\n",
       "      <td>...</td>\n",
       "    </tr>\n",
       "    <tr>\n",
       "      <th>507</th>\n",
       "      <td>ZZZX</td>\n",
       "      <td>True</td>\n",
       "      <td>9.605960e-11</td>\n",
       "      <td>9.605960e-11</td>\n",
       "    </tr>\n",
       "    <tr>\n",
       "      <th>508</th>\n",
       "      <td>ZZZY</td>\n",
       "      <td>False</td>\n",
       "      <td>9.605960e-11</td>\n",
       "      <td>9.605960e-11</td>\n",
       "    </tr>\n",
       "    <tr>\n",
       "      <th>509</th>\n",
       "      <td>ZZZY</td>\n",
       "      <td>True</td>\n",
       "      <td>9.702990e-13</td>\n",
       "      <td>9.702990e-13</td>\n",
       "    </tr>\n",
       "    <tr>\n",
       "      <th>510</th>\n",
       "      <td>ZZZZ</td>\n",
       "      <td>False</td>\n",
       "      <td>9.509900e-09</td>\n",
       "      <td>9.509900e-09</td>\n",
       "    </tr>\n",
       "    <tr>\n",
       "      <th>511</th>\n",
       "      <td>ZZZZ</td>\n",
       "      <td>True</td>\n",
       "      <td>9.605960e-11</td>\n",
       "      <td>9.605960e-11</td>\n",
       "    </tr>\n",
       "  </tbody>\n",
       "</table>\n",
       "<p>512 rows × 4 columns</p>\n",
       "</div>"
      ],
      "text/plain": [
       "    error_config    lie             p             s\n",
       "0           IIII  False  9.135172e-01  9.135172e-01\n",
       "1           IIII   True  9.227447e-03  9.227447e-03\n",
       "2           IIIX  False  9.227447e-03  9.227447e-03\n",
       "3           IIIX   True  9.320653e-05  9.320653e-05\n",
       "4           IIIY  False  9.320653e-05  9.320653e-05\n",
       "..           ...    ...           ...           ...\n",
       "507         ZZZX   True  9.605960e-11  9.605960e-11\n",
       "508         ZZZY  False  9.605960e-11  9.605960e-11\n",
       "509         ZZZY   True  9.702990e-13  9.702990e-13\n",
       "510         ZZZZ  False  9.509900e-09  9.509900e-09\n",
       "511         ZZZZ   True  9.605960e-11  9.605960e-11\n",
       "\n",
       "[512 rows x 4 columns]"
      ]
     },
     "execution_count": 13,
     "metadata": {},
     "output_type": "execute_result"
    }
   ],
   "source": [
    "data_frame"
   ]
  },
  {
   "cell_type": "code",
   "execution_count": null,
   "metadata": {},
   "outputs": [],
   "source": []
  }
 ],
 "metadata": {
  "interpreter": {
   "hash": "9741a63e3bbb66ce0aff41f9307f59d64508d67e9174abd017bb37ca15f82d9d"
  },
  "kernelspec": {
   "display_name": "Python 3 (ipykernel)",
   "language": "python",
   "name": "python3"
  },
  "language_info": {
   "codemirror_mode": {
    "name": "ipython",
    "version": 3
   },
   "file_extension": ".py",
   "mimetype": "text/x-python",
   "name": "python",
   "nbconvert_exporter": "python",
   "pygments_lexer": "ipython3",
   "version": "3.9.7"
  }
 },
 "nbformat": 4,
 "nbformat_minor": 2
}
