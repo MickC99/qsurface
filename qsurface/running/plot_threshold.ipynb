{
 "cells": [
  {
   "cell_type": "code",
   "execution_count": 28,
   "metadata": {},
   "outputs": [],
   "source": [
    "from bokeh.plotting import figure, show\n",
    "import pandas as pd\n",
    "from os.path import isfile, join\n",
    "from os import listdir\n",
    "\n",
    "plot_data_address = \"C:/qarch/qsurface/data/exported_data/threshold_superoperator_data.json\"\n",
    "file_location = \"C:/qarch/qsurface/data/sim_protocol/\""
   ]
  },
  {
   "cell_type": "code",
   "execution_count": 74,
   "metadata": {},
   "outputs": [],
   "source": [
    "# Getting the logical error rates\n",
    "\n",
    "plot_data = pd.read_json(plot_data_address)\n",
    "plot_data = dict(plot_data)\n",
    "lattices = [str(max(tuple(l)))+\"X\"+str(max(tuple(l))) for l in list(plot_data.keys())]\n",
    "plotting_dict = {lattice: None for lattice in lattices}\n",
    "for lattice, value in zip(lattices, plot_data.values()):\n",
    "    plotting_dict[lattice] = list(dict(value).values())\n",
    "\n",
    "# Getting the error rates\n",
    "error_rates = []\n",
    "files = [f for f in listdir(file_location) if isfile(join(file_location, f))]\n",
    "FILES = [file_location+ f for f in files]\n",
    "for file in FILES:\n",
    "    csv_file = pd.read_csv(file,sep=';')\n",
    "    error_rates.append(csv_file.iloc[0]['pg'])"
   ]
  },
  {
   "cell_type": "code",
   "execution_count": 77,
   "metadata": {},
   "outputs": [],
   "source": [
    "def plot_threshold(plotting_dict: dict, error_rates: list):\n",
    "    fig = figure(title=\"Error threshold\", x_axis_label = \"Physical error rate\", y_axis_label = \"Logical error rate\")\n",
    "    for lattice, logical in plotting_dict.items():\n",
    "        fig.line(error_rates, logical, legend_label=lattice, line_width=2)\n",
    "\n",
    "    return fig\n"
   ]
  },
  {
   "cell_type": "code",
   "execution_count": 78,
   "metadata": {},
   "outputs": [],
   "source": [
    "plot_figure = plot_threshold(plotting_dict,error_rates)\n",
    "show(plot_figure)"
   ]
  },
  {
   "cell_type": "code",
   "execution_count": 2,
   "metadata": {},
   "outputs": [
    {
     "data": {
      "text/plain": [
       "{'(4, 4)': {'0': 0.9519,\n",
       "  '1': 0.7971,\n",
       "  '2': 0.9505,\n",
       "  '3': 0.7877,\n",
       "  '4': 0.95225,\n",
       "  '5': 0.79255},\n",
       " '(5, 5)': {'0': 0.98645,\n",
       "  '1': 0.87985,\n",
       "  '2': 0.9845,\n",
       "  '3': 0.87065,\n",
       "  '4': 0.98575,\n",
       "  '5': 0.87385},\n",
       " '(6, 6)': {'0': 0.9881,\n",
       "  '1': 0.8815,\n",
       "  '2': 0.98795,\n",
       "  '3': 0.86535,\n",
       "  '4': 0.98725,\n",
       "  '5': 0.87295},\n",
       " '(8, 8)': {'0': 0.997,\n",
       "  '1': 0.9175,\n",
       "  '2': 0.9972,\n",
       "  '3': 0.9035,\n",
       "  '4': 0.99655,\n",
       "  '5': 0.90795}}"
      ]
     },
     "execution_count": 2,
     "metadata": {},
     "output_type": "execute_result"
    }
   ],
   "source": [
    "{\"(4, 4)\":{\"0\":0.9519,\"1\":0.7971,\"2\":0.9505,\"3\":0.7877,\"4\":0.95225,\"5\":0.79255},\"(5, 5)\":{\"0\":0.98645,\"1\":0.87985,\"2\":0.9845,\"3\":0.87065,\"4\":0.98575,\"5\":0.87385},\"(6, 6)\":{\"0\":0.9881,\"1\":0.8815,\"2\":0.98795,\"3\":0.86535,\"4\":0.98725,\"5\":0.87295},\"(8, 8)\":{\"0\":0.997,\"1\":0.9175,\"2\":0.9972,\"3\":0.9035,\"4\":0.99655,\"5\":0.90795}}"
   ]
  }
 ],
 "metadata": {
  "interpreter": {
   "hash": "9741a63e3bbb66ce0aff41f9307f59d64508d67e9174abd017bb37ca15f82d9d"
  },
  "kernelspec": {
   "display_name": "Python 3.9.7 ('qs_env')",
   "language": "python",
   "name": "python3"
  },
  "language_info": {
   "codemirror_mode": {
    "name": "ipython",
    "version": 3
   },
   "file_extension": ".py",
   "mimetype": "text/x-python",
   "name": "python",
   "nbconvert_exporter": "python",
   "pygments_lexer": "ipython3",
   "version": "3.9.7"
  },
  "orig_nbformat": 4
 },
 "nbformat": 4,
 "nbformat_minor": 2
}
